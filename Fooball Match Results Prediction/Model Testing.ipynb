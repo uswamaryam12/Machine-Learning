{
 "cells": [
  {
   "cell_type": "code",
   "execution_count": null,
   "metadata": {},
   "outputs": [],
   "source": [
    "import pandas as pd\n",
    "import numpy as np\n",
    "from sklearn.preprocessing import StandardScaler\n",
    "import joblib"
   ]
  },
  {
   "cell_type": "code",
   "execution_count": null,
   "metadata": {},
   "outputs": [],
   "source": [
    "# Load the trained model\n",
    "rf_classifier = joblib.load(\"football_match_prediction_model.pkl\")\n"
   ]
  },
  {
   "cell_type": "code",
   "execution_count": 4,
   "metadata": {},
   "outputs": [],
   "source": [
    "\n",
    "# Load the preprocessed dataset\n",
    "df_preprocessed = pd.read_csv(\"preprocessed_dataset.csv\")"
   ]
  },
  {
   "cell_type": "code",
   "execution_count": 16,
   "metadata": {},
   "outputs": [
    {
     "name": "stdout",
     "output_type": "stream",
     "text": [
      "Preprocessed future match data:\n",
      "   Goals Home  Goals Away  Odd Home  Odd Draw  Odd Away Best Tip  \\\n",
      "0         0.0         0.0       0.0       0.0       0.0        X   \n",
      "\n",
      "   Best Tip Trust  Best Tip Odd  Underover  Trust Underover  Odd Underover  \\\n",
      "0              70           0.0  under 2.5               80            0.0   \n",
      "\n",
      "   tipOdd  League_Premier League  Country_England  \\\n",
      "0     3.5                   True             True   \n",
      "\n",
      "   Home Team_Manchester United  Away Team_Liverpool  goal_difference  \\\n",
      "0                         True                 True              0.0   \n",
      "\n",
      "   odd_difference  \n",
      "0             0.0  \n"
     ]
    }
   ],
   "source": [
    "import pandas as pd\n",
    "from sklearn.preprocessing import StandardScaler\n",
    "\n",
    "# Example future match data\n",
    "future_match_data = pd.DataFrame({\n",
    "    'League': ['Premier League'],  # Example league\n",
    "    'Country': ['England'],  # Example country\n",
    "    'Home Team': ['Manchester United'],  # Example home team\n",
    "    'Away Team': ['Liverpool'],  # Example away team\n",
    "    'Goals Home': [0],  # Example goals scored by home team\n",
    "    'Goals Away': [0],  # Example goals scored by away team\n",
    "    'Odd Home': [2.0],  # Example odd for home team\n",
    "    'Odd Draw': [3.5],  # Example odd for draw\n",
    "    'Odd Away': [2.5],  # Example odd for away team\n",
    "    'Best Tip': ['X'],  # Example best tip\n",
    "    'Best Tip Trust': [70],  # Example trust for best tip\n",
    "    'Best Tip Odd': [3.5],  # Example odd for best tip\n",
    "    'Underover': ['under 2.5'],  # Example under/over prediction\n",
    "    'Trust Underover': [80],  # Example trust for under/over prediction\n",
    "    'Odd Underover': [1.6],  # Example odd for under/over prediction\n",
    "    'tipOdd': [3.5]  # Example tip odd\n",
    "})\n",
    "\n",
    "# Preprocess future match data\n",
    "# Encode categorical variables\n",
    "categorical_cols = [\"League\", \"Country\", \"Home Team\", \"Away Team\"]\n",
    "future_match_data_encoded = pd.get_dummies(future_match_data, columns=categorical_cols)\n",
    "\n",
    "# Normalize numerical variables\n",
    "scaler = StandardScaler()\n",
    "numerical_cols = [\"Goals Home\", \"Goals Away\", \"Odd Home\", \"Odd Draw\", \"Odd Away\", \"Best Tip Odd\", \"Odd Underover\"]\n",
    "future_match_data_encoded[numerical_cols] = scaler.fit_transform(future_match_data_encoded[numerical_cols])\n",
    "\n",
    "# Perform feature engineering (if applicable)\n",
    "future_match_data_encoded['goal_difference'] = future_match_data_encoded['Goals Home'] - future_match_data_encoded['Goals Away']\n",
    "future_match_data_encoded['odd_difference'] = future_match_data_encoded['Odd Home'] - future_match_data_encoded['Odd Away']\n",
    "\n",
    "# # Drop irrelevant columns (if necessary)\n",
    "# # For example, if you dropped 'Time' column in historical data preprocessing\n",
    "# future_match_data_encoded.drop(['Time'], axis=1, inplace=True)\n",
    "\n",
    "print(\"Preprocessed future match data:\")\n",
    "print(future_match_data_encoded)\n"
   ]
  }
 ],
 "metadata": {
  "kernelspec": {
   "display_name": "Python 3",
   "language": "python",
   "name": "python3"
  },
  "language_info": {
   "codemirror_mode": {
    "name": "ipython",
    "version": 3
   },
   "file_extension": ".py",
   "mimetype": "text/x-python",
   "name": "python",
   "nbconvert_exporter": "python",
   "pygments_lexer": "ipython3",
   "version": "3.11.6"
  }
 },
 "nbformat": 4,
 "nbformat_minor": 2
}
