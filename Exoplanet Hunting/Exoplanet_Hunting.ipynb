{
 "cells": [
  {
   "cell_type": "code",
   "execution_count": 1,
   "id": "286506e9",
   "metadata": {},
   "outputs": [
    {
     "name": "stderr",
     "output_type": "stream",
     "text": [
      "C:\\Users\\MC\\AppData\\Local\\Temp\\ipykernel_2508\\2545744715.py:8: DeprecationWarning: Please use `uniform_filter1d` from the `scipy.ndimage` namespace, the `scipy.ndimage.filters` namespace is deprecated.\n",
      "  from scipy.ndimage.filters import uniform_filter1d\n"
     ]
    }
   ],
   "source": [
    "import numpy as np\n",
    "import pandas as pd\n",
    "import matplotlib.pyplot as plt\n",
    "import seaborn as sns\n",
    "from sklearn.linear_model import LinearRegression\n",
    "from sklearn.preprocessing import StandardScaler\n",
    "from sklearn.metrics import roc_curve, roc_auc_score\n",
    "from scipy.ndimage.filters import uniform_filter1d\n",
    "#Keras is a high level neural networks library, based on either tensorflow or theano\n",
    "from keras.models import Sequential, Model\n",
    "from keras.layers import Conv1D, MaxPool1D, Dense, Dropout, Flatten, \\\n",
    "BatchNormalization, Input, concatenate, Activation\n",
    "from keras.optimizers import Adam"
   ]
  },
  {
   "cell_type": "code",
   "execution_count": 2,
   "id": "39dc50a0",
   "metadata": {},
   "outputs": [],
   "source": [
    "train_d = pd.read_csv(\"Datas/exoTrain.csv\")"
   ]
  },
  {
   "cell_type": "code",
   "execution_count": 3,
   "id": "0fe3d6ef",
   "metadata": {},
   "outputs": [
    {
     "data": {
      "text/html": [
       "<div>\n",
       "<style scoped>\n",
       "    .dataframe tbody tr th:only-of-type {\n",
       "        vertical-align: middle;\n",
       "    }\n",
       "\n",
       "    .dataframe tbody tr th {\n",
       "        vertical-align: top;\n",
       "    }\n",
       "\n",
       "    .dataframe thead th {\n",
       "        text-align: right;\n",
       "    }\n",
       "</style>\n",
       "<table border=\"1\" class=\"dataframe\">\n",
       "  <thead>\n",
       "    <tr style=\"text-align: right;\">\n",
       "      <th></th>\n",
       "      <th>LABEL</th>\n",
       "      <th>FLUX.1</th>\n",
       "      <th>FLUX.2</th>\n",
       "      <th>FLUX.3</th>\n",
       "      <th>FLUX.4</th>\n",
       "      <th>FLUX.5</th>\n",
       "      <th>FLUX.6</th>\n",
       "      <th>FLUX.7</th>\n",
       "      <th>FLUX.8</th>\n",
       "      <th>FLUX.9</th>\n",
       "      <th>...</th>\n",
       "      <th>FLUX.3188</th>\n",
       "      <th>FLUX.3189</th>\n",
       "      <th>FLUX.3190</th>\n",
       "      <th>FLUX.3191</th>\n",
       "      <th>FLUX.3192</th>\n",
       "      <th>FLUX.3193</th>\n",
       "      <th>FLUX.3194</th>\n",
       "      <th>FLUX.3195</th>\n",
       "      <th>FLUX.3196</th>\n",
       "      <th>FLUX.3197</th>\n",
       "    </tr>\n",
       "  </thead>\n",
       "  <tbody>\n",
       "    <tr>\n",
       "      <th>0</th>\n",
       "      <td>2</td>\n",
       "      <td>93.85</td>\n",
       "      <td>83.81</td>\n",
       "      <td>20.10</td>\n",
       "      <td>-26.98</td>\n",
       "      <td>-39.56</td>\n",
       "      <td>-124.71</td>\n",
       "      <td>-135.18</td>\n",
       "      <td>-96.27</td>\n",
       "      <td>-79.89</td>\n",
       "      <td>...</td>\n",
       "      <td>-78.07</td>\n",
       "      <td>-102.15</td>\n",
       "      <td>-102.15</td>\n",
       "      <td>25.13</td>\n",
       "      <td>48.57</td>\n",
       "      <td>92.54</td>\n",
       "      <td>39.32</td>\n",
       "      <td>61.42</td>\n",
       "      <td>5.08</td>\n",
       "      <td>-39.54</td>\n",
       "    </tr>\n",
       "    <tr>\n",
       "      <th>1</th>\n",
       "      <td>2</td>\n",
       "      <td>-38.88</td>\n",
       "      <td>-33.83</td>\n",
       "      <td>-58.54</td>\n",
       "      <td>-40.09</td>\n",
       "      <td>-79.31</td>\n",
       "      <td>-72.81</td>\n",
       "      <td>-86.55</td>\n",
       "      <td>-85.33</td>\n",
       "      <td>-83.97</td>\n",
       "      <td>...</td>\n",
       "      <td>-3.28</td>\n",
       "      <td>-32.21</td>\n",
       "      <td>-32.21</td>\n",
       "      <td>-24.89</td>\n",
       "      <td>-4.86</td>\n",
       "      <td>0.76</td>\n",
       "      <td>-11.70</td>\n",
       "      <td>6.46</td>\n",
       "      <td>16.00</td>\n",
       "      <td>19.93</td>\n",
       "    </tr>\n",
       "    <tr>\n",
       "      <th>2</th>\n",
       "      <td>2</td>\n",
       "      <td>532.64</td>\n",
       "      <td>535.92</td>\n",
       "      <td>513.73</td>\n",
       "      <td>496.92</td>\n",
       "      <td>456.45</td>\n",
       "      <td>466.00</td>\n",
       "      <td>464.50</td>\n",
       "      <td>486.39</td>\n",
       "      <td>436.56</td>\n",
       "      <td>...</td>\n",
       "      <td>-71.69</td>\n",
       "      <td>13.31</td>\n",
       "      <td>13.31</td>\n",
       "      <td>-29.89</td>\n",
       "      <td>-20.88</td>\n",
       "      <td>5.06</td>\n",
       "      <td>-11.80</td>\n",
       "      <td>-28.91</td>\n",
       "      <td>-70.02</td>\n",
       "      <td>-96.67</td>\n",
       "    </tr>\n",
       "    <tr>\n",
       "      <th>3</th>\n",
       "      <td>2</td>\n",
       "      <td>326.52</td>\n",
       "      <td>347.39</td>\n",
       "      <td>302.35</td>\n",
       "      <td>298.13</td>\n",
       "      <td>317.74</td>\n",
       "      <td>312.70</td>\n",
       "      <td>322.33</td>\n",
       "      <td>311.31</td>\n",
       "      <td>312.42</td>\n",
       "      <td>...</td>\n",
       "      <td>5.71</td>\n",
       "      <td>-3.73</td>\n",
       "      <td>-3.73</td>\n",
       "      <td>30.05</td>\n",
       "      <td>20.03</td>\n",
       "      <td>-12.67</td>\n",
       "      <td>-8.77</td>\n",
       "      <td>-17.31</td>\n",
       "      <td>-17.35</td>\n",
       "      <td>13.98</td>\n",
       "    </tr>\n",
       "    <tr>\n",
       "      <th>4</th>\n",
       "      <td>2</td>\n",
       "      <td>-1107.21</td>\n",
       "      <td>-1112.59</td>\n",
       "      <td>-1118.95</td>\n",
       "      <td>-1095.10</td>\n",
       "      <td>-1057.55</td>\n",
       "      <td>-1034.48</td>\n",
       "      <td>-998.34</td>\n",
       "      <td>-1022.71</td>\n",
       "      <td>-989.57</td>\n",
       "      <td>...</td>\n",
       "      <td>-594.37</td>\n",
       "      <td>-401.66</td>\n",
       "      <td>-401.66</td>\n",
       "      <td>-357.24</td>\n",
       "      <td>-443.76</td>\n",
       "      <td>-438.54</td>\n",
       "      <td>-399.71</td>\n",
       "      <td>-384.65</td>\n",
       "      <td>-411.79</td>\n",
       "      <td>-510.54</td>\n",
       "    </tr>\n",
       "  </tbody>\n",
       "</table>\n",
       "<p>5 rows × 3198 columns</p>\n",
       "</div>"
      ],
      "text/plain": [
       "   LABEL   FLUX.1   FLUX.2   FLUX.3   FLUX.4   FLUX.5   FLUX.6  FLUX.7  \\\n",
       "0      2    93.85    83.81    20.10   -26.98   -39.56  -124.71 -135.18   \n",
       "1      2   -38.88   -33.83   -58.54   -40.09   -79.31   -72.81  -86.55   \n",
       "2      2   532.64   535.92   513.73   496.92   456.45   466.00  464.50   \n",
       "3      2   326.52   347.39   302.35   298.13   317.74   312.70  322.33   \n",
       "4      2 -1107.21 -1112.59 -1118.95 -1095.10 -1057.55 -1034.48 -998.34   \n",
       "\n",
       "    FLUX.8  FLUX.9  ...  FLUX.3188  FLUX.3189  FLUX.3190  FLUX.3191  \\\n",
       "0   -96.27  -79.89  ...     -78.07    -102.15    -102.15      25.13   \n",
       "1   -85.33  -83.97  ...      -3.28     -32.21     -32.21     -24.89   \n",
       "2   486.39  436.56  ...     -71.69      13.31      13.31     -29.89   \n",
       "3   311.31  312.42  ...       5.71      -3.73      -3.73      30.05   \n",
       "4 -1022.71 -989.57  ...    -594.37    -401.66    -401.66    -357.24   \n",
       "\n",
       "   FLUX.3192  FLUX.3193  FLUX.3194  FLUX.3195  FLUX.3196  FLUX.3197  \n",
       "0      48.57      92.54      39.32      61.42       5.08     -39.54  \n",
       "1      -4.86       0.76     -11.70       6.46      16.00      19.93  \n",
       "2     -20.88       5.06     -11.80     -28.91     -70.02     -96.67  \n",
       "3      20.03     -12.67      -8.77     -17.31     -17.35      13.98  \n",
       "4    -443.76    -438.54    -399.71    -384.65    -411.79    -510.54  \n",
       "\n",
       "[5 rows x 3198 columns]"
      ]
     },
     "execution_count": 3,
     "metadata": {},
     "output_type": "execute_result"
    }
   ],
   "source": [
    "train_d.head()"
   ]
  },
  {
   "cell_type": "code",
   "execution_count": 4,
   "id": "133899cc",
   "metadata": {},
   "outputs": [
    {
     "data": {
      "text/plain": [
       "(5087, 3198)"
      ]
     },
     "execution_count": 4,
     "metadata": {},
     "output_type": "execute_result"
    }
   ],
   "source": [
    "train_d.shape"
   ]
  },
  {
   "cell_type": "code",
   "execution_count": 5,
   "id": "b45eb686",
   "metadata": {},
   "outputs": [
    {
     "data": {
      "text/plain": [
       "LABEL        0\n",
       "FLUX.1       0\n",
       "FLUX.2       0\n",
       "FLUX.3       0\n",
       "FLUX.4       0\n",
       "            ..\n",
       "FLUX.3193    0\n",
       "FLUX.3194    0\n",
       "FLUX.3195    0\n",
       "FLUX.3196    0\n",
       "FLUX.3197    0\n",
       "Length: 3198, dtype: int64"
      ]
     },
     "execution_count": 5,
     "metadata": {},
     "output_type": "execute_result"
    }
   ],
   "source": [
    "train_d.isnull().sum()"
   ]
  },
  {
   "cell_type": "code",
   "execution_count": 6,
   "id": "15ebb83b",
   "metadata": {},
   "outputs": [
    {
     "data": {
      "text/plain": [
       "1    5050\n",
       "2      37\n",
       "Name: LABEL, dtype: int64"
      ]
     },
     "execution_count": 6,
     "metadata": {},
     "output_type": "execute_result"
    }
   ],
   "source": [
    "train_d['LABEL'].value_counts()"
   ]
  },
  {
   "cell_type": "code",
   "execution_count": 7,
   "id": "00c05392",
   "metadata": {},
   "outputs": [],
   "source": [
    "categ = {2: 1, 1: 0}\n",
    "train_d.LABEL = [categ[item] for item in train_d.LABEL]"
   ]
  },
  {
   "cell_type": "code",
   "execution_count": 8,
   "id": "245627e2",
   "metadata": {},
   "outputs": [
    {
     "data": {
      "text/plain": [
       "0    5050\n",
       "1      37\n",
       "Name: LABEL, dtype: int64"
      ]
     },
     "execution_count": 8,
     "metadata": {},
     "output_type": "execute_result"
    }
   ],
   "source": [
    "train_d['LABEL'].value_counts()"
   ]
  },
  {
   "cell_type": "code",
   "execution_count": 9,
   "id": "c0c6ebc3",
   "metadata": {},
   "outputs": [
    {
     "data": {
      "text/plain": [
       "<Axes: xlabel='LABEL', ylabel='count'>"
      ]
     },
     "execution_count": 9,
     "metadata": {},
     "output_type": "execute_result"
    },
    {
     "data": {
      "image/png": "[encoded data removed]",
      "text/plain": [
       "<Figure size 640x480 with 1 Axes>"
      ]
     },
     "metadata": {},
     "output_type": "display_data"
    }
   ],
   "source": [
    "sns.countplot(x=train_d['LABEL'])"
   ]
  },
  {
   "cell_type": "code",
   "execution_count": 10,
   "id": "21221c46",
   "metadata": {},
   "outputs": [
    {
     "data": {
      "text/plain": [
       "<Axes: xlabel='LABEL', ylabel='FLUX.5'>"
      ]
     },
     "execution_count": 10,
     "metadata": {},
     "output_type": "execute_result"
    },
    {
     "data": {
      "image/png": "[encoded data removed]",
      "text/plain": [
       "<Figure size 1500x600 with 5 Axes>"
      ]
     },
     "metadata": {},
     "output_type": "display_data"
    }
   ],
   "source": [
    "fig, axes = plt.subplots(1, 5,figsize=(15, 6), sharey=True)\n",
    "fig.suptitle('Distribution of FLUX')\n",
    "\n",
    "sns.boxplot(ax=axes[0], data=train_d, x='LABEL', y='FLUX.1',palette=\"Set2\")\n",
    "sns.boxplot(ax=axes[1], data=train_d, x='LABEL', y='FLUX.2',palette=\"Set2\")\n",
    "sns.boxplot(ax=axes[2], data=train_d, x='LABEL', y='FLUX.3',palette=\"Set2\")\n",
    "sns.boxplot(ax=axes[3], data=train_d, x='LABEL', y='FLUX.4',palette=\"Set2\")\n",
    "sns.boxplot(ax=axes[4], data=train_d, x='LABEL', y='FLUX.5',palette=\"Set2\")"
   ]
  },
  {
   "cell_type": "code",
   "execution_count": 11,
   "id": "1d19be32",
   "metadata": {},
   "outputs": [],
   "source": [
    "train_d.drop(train_d[train_d['FLUX.1']>250000].index, axis=0, inplace=True)\n",
    "\n",
    "x_train = train_d.drop([\"LABEL\"],axis=1)\n",
    "y_train = train_d[\"LABEL\"]"
   ]
  },
  {
   "cell_type": "code",
   "execution_count": 12,
   "id": "eec90b29",
   "metadata": {},
   "outputs": [],
   "source": [
    "from scipy import ndimage\n",
    "import seaborn as sns\n",
    "from imblearn.over_sampling import SMOTE\n",
    "from sklearn.preprocessing import StandardScaler, normalize\n",
    "from sklearn.model_selection import cross_val_score, train_test_split\n",
    "from sklearn.metrics import recall_score, precision_score, classification_report,accuracy_score,confusion_matrix"
   ]
  },
  {
   "cell_type": "code",
   "execution_count": 13,
   "id": "e7510483",
   "metadata": {},
   "outputs": [],
   "source": [
    "x_train = normalized = normalize(x_train)"
   ]
  },
  {
   "cell_type": "code",
   "execution_count": 14,
   "id": "fbd16674",
   "metadata": {},
   "outputs": [
    {
     "name": "stderr",
     "output_type": "stream",
     "text": [
      "C:\\Users\\MC\\AppData\\Local\\Temp\\ipykernel_2508\\1629938577.py:1: DeprecationWarning: Please use `gaussian_filter` from the `scipy.ndimage` namespace, the `scipy.ndimage.filters` namespace is deprecated.\n",
      "  x_train = filtered = ndimage.filters.gaussian_filter(x_train, sigma=10)\n"
     ]
    }
   ],
   "source": [
    "x_train = filtered = ndimage.filters.gaussian_filter(x_train, sigma=10)"
   ]
  },
  {
   "cell_type": "code",
   "execution_count": 15,
   "id": "2b09ec59",
   "metadata": {},
   "outputs": [],
   "source": [
    "std_scaler = StandardScaler()\n",
    "x_train = scaled = std_scaler.fit_transform(x_train)"
   ]
  },
  {
   "cell_type": "code",
   "execution_count": 16,
   "id": "f747d016",
   "metadata": {},
   "outputs": [
    {
     "name": "stdout",
     "output_type": "stream",
     "text": [
      "37\n"
     ]
    }
   ],
   "source": [
    "from sklearn.decomposition import PCA\n",
    "pca = PCA() \n",
    "x_train = pca.fit_transform(x_train)\n",
    "x_train = pca.transform(x_train)\n",
    "total=sum(pca.explained_variance_)\n",
    "k=0\n",
    "current_variance=0\n",
    "while current_variance/total < 0.90:\n",
    "    current_variance += pca.explained_variance_[k]\n",
    "    k=k+1\n",
    "print(k)"
   ]
  },
  {
   "cell_type": "code",
   "execution_count": 17,
   "id": "56826e88",
   "metadata": {},
   "outputs": [
    {
     "data": {
      "image/png": "[encoded data removed]",
      "text/plain": [
       "<Figure size 640x480 with 1 Axes>"
      ]
     },
     "metadata": {},
     "output_type": "display_data"
    }
   ],
   "source": [
    "pca = PCA(n_components=37)\n",
    "x_train = pca.fit_transform(x_train)\n",
    "plt.figure()\n",
    "plt.plot(np.cumsum(pca.explained_variance_ratio_))\n",
    "plt.xlabel('Number of Components')\n",
    "plt.ylabel('Variance (%)') \n",
    "plt.title('Exoplanet Dataset Explained Variance')\n",
    "plt.show()"
   ]
  },
  {
   "cell_type": "code",
   "execution_count": 18,
   "id": "a6b4c031",
   "metadata": {},
   "outputs": [
    {
     "data": {
      "text/plain": [
       "<Axes: xlabel='index'>"
      ]
     },
     "execution_count": 18,
     "metadata": {},
     "output_type": "execute_result"
    },
    {
     "data": {
      "image/png": "[encoded data removed]",
      "text/plain": [
       "<Figure size 640x480 with 1 Axes>"
      ]
     },
     "metadata": {},
     "output_type": "display_data"
    }
   ],
   "source": [
    "from imblearn.over_sampling import SMOTE\n",
    "model = SMOTE()\n",
    "ov_train_x,ov_train_y = model.fit_resample(train_d.drop('LABEL',axis=1), train_d['LABEL'])\n",
    "ov_train_y = ov_train_y.astype('int')\n",
    "\n",
    "ov_train_y.value_counts().reset_index().plot(kind='bar', x='index', y='LABEL')"
   ]
  },
  {
   "cell_type": "code",
   "execution_count": 19,
   "id": "674d9740",
   "metadata": {},
   "outputs": [],
   "source": [
    "train_X, test_X, train_y, test_y = train_test_split(ov_train_x, ov_train_y, test_size=0.33, random_state=42)"
   ]
  },
  {
   "cell_type": "code",
   "execution_count": 21,
   "id": "ca00961c",
   "metadata": {},
   "outputs": [],
   "source": [
    "test_data = pd.read_csv(\"Dataset/exoTest.csv\")"
   ]
  },
  {
   "cell_type": "code",
   "execution_count": 22,
   "id": "1c2d420e",
   "metadata": {},
   "outputs": [],
   "source": [
    "test_data.LABEL = [categ[item] for item in test_data.LABEL]"
   ]
  },
  {
   "cell_type": "code",
   "execution_count": 23,
   "id": "58e39f12",
   "metadata": {},
   "outputs": [
    {
     "data": {
      "text/plain": [
       "3197"
      ]
     },
     "execution_count": 23,
     "metadata": {},
     "output_type": "execute_result"
    }
   ],
   "source": [
    "train_X.shape\n",
    "test_data.shape\n",
    "test_X.shape\n",
    "n_features = train_X.shape[1]\n",
    "n_features"
   ]
  },
  {
   "cell_type": "code",
   "execution_count": 24,
   "id": "0f34be17",
   "metadata": {},
   "outputs": [],
   "source": [
    "import keras\n",
    "from keras.layers import *\n",
    "from keras.models import *\n",
    "from tensorflow.keras.layers import Conv1D, MaxPooling1D, Dense, LeakyReLU\n",
    "from tensorflow.keras.layers import Flatten, Activation, BatchNormalization\n",
    "from tensorflow.keras.losses import BinaryCrossentropy\n",
    "from tensorflow.keras import layers\n",
    "import tensorflow as tf"
   ]
  },
  {
   "cell_type": "code",
   "execution_count": 25,
   "id": "98dc25a1",
   "metadata": {},
   "outputs": [
    {
     "data": {
      "text/plain": [
       "(6765, 3197)"
      ]
     },
     "execution_count": 25,
     "metadata": {},
     "output_type": "execute_result"
    }
   ],
   "source": [
    "train_X.shape"
   ]
  },
  {
   "cell_type": "code",
   "execution_count": 26,
   "id": "08c5055b",
   "metadata": {},
   "outputs": [
    {
     "data": {
      "text/plain": [
       "(3197,)"
      ]
     },
     "execution_count": 26,
     "metadata": {},
     "output_type": "execute_result"
    }
   ],
   "source": [
    "train_X.shape[1:]"
   ]
  },
  {
   "cell_type": "code",
   "execution_count": 27,
   "id": "c0e2ed73",
   "metadata": {},
   "outputs": [],
   "source": [
    "model = Sequential()\n",
    "model.add(Conv1D(filters=16, kernel_size=2, activation='relu', input_shape=(3197,1), kernel_regularizer='l2'))\n",
    "model.add(Conv1D(filters=16, kernel_size=2, activation='relu'))\n",
    "model.add(MaxPooling1D(pool_size=2, strides=2))\n",
    "model.add(Dropout(0.2))\n",
    "model.add(Flatten())\n",
    "model.add(Dense(64, activation=\"relu\"))\n",
    "model.add(Dropout(0.4))\n",
    "model.add(Dense(48, activation=\"relu\"))\n",
    "model.add(Dense(18, activation=\"relu\"))\n",
    "model.add(Dense(1, activation=\"sigmoid\"))"
   ]
  },
  {
   "cell_type": "code",
   "execution_count": 28,
   "id": "c6ce01cf",
   "metadata": {},
   "outputs": [],
   "source": [
    "x_test, y_test = test_data.drop(columns = ['LABEL']), test_data.loc[:, 'LABEL']"
   ]
  },
  {
   "cell_type": "code",
   "execution_count": 29,
   "id": "b7cfb577",
   "metadata": {},
   "outputs": [
    {
     "name": "stdout",
     "output_type": "stream",
     "text": [
      "Epoch 1/40\n",
      "43/43 - 12s - loss: 11.0205 - accuracy: 0.5900 - val_loss: 2.3684 - val_accuracy: 0.6135 - 12s/epoch - 274ms/step\n",
      "Epoch 2/40\n",
      "43/43 - 10s - loss: 6.2409 - accuracy: 0.6870 - val_loss: 0.6346 - val_accuracy: 0.8596 - 10s/epoch - 222ms/step\n",
      "Epoch 3/40\n",
      "43/43 - 10s - loss: 2.3496 - accuracy: 0.7888 - val_loss: 0.4532 - val_accuracy: 0.9246 - 10s/epoch - 222ms/step\n",
      "Epoch 4/40\n",
      "43/43 - 10s - loss: 1.9466 - accuracy: 0.8234 - val_loss: 0.5095 - val_accuracy: 0.9246 - 10s/epoch - 224ms/step\n",
      "Epoch 5/40\n",
      "43/43 - 10s - loss: 2.0267 - accuracy: 0.8583 - val_loss: 0.3673 - val_accuracy: 0.9217 - 10s/epoch - 226ms/step\n",
      "Epoch 6/40\n",
      "43/43 - 11s - loss: 1.7468 - accuracy: 0.8705 - val_loss: 0.2619 - val_accuracy: 0.9497 - 11s/epoch - 254ms/step\n",
      "Epoch 7/40\n",
      "43/43 - 11s - loss: 1.2895 - accuracy: 0.8849 - val_loss: 0.1606 - val_accuracy: 0.9808 - 11s/epoch - 248ms/step\n",
      "Epoch 8/40\n",
      "43/43 - 10s - loss: 4.3062 - accuracy: 0.8999 - val_loss: 1.4129 - val_accuracy: 0.8928 - 10s/epoch - 230ms/step\n",
      "Epoch 9/40\n",
      "43/43 - 10s - loss: 1.4379 - accuracy: 0.8751 - val_loss: 0.1607 - val_accuracy: 0.9830 - 10s/epoch - 224ms/step\n",
      "Epoch 10/40\n",
      "43/43 - 10s - loss: 2.2547 - accuracy: 0.8880 - val_loss: 0.5819 - val_accuracy: 0.9143 - 10s/epoch - 223ms/step\n",
      "Epoch 11/40\n",
      "43/43 - 11s - loss: 1.0815 - accuracy: 0.9115 - val_loss: 0.1234 - val_accuracy: 0.9911 - 11s/epoch - 250ms/step\n",
      "Epoch 12/40\n",
      "43/43 - 10s - loss: 2.2102 - accuracy: 0.9211 - val_loss: 0.1322 - val_accuracy: 0.9845 - 10s/epoch - 235ms/step\n",
      "Epoch 13/40\n",
      "43/43 - 10s - loss: 0.6872 - accuracy: 0.9375 - val_loss: 0.2272 - val_accuracy: 0.9771 - 10s/epoch - 232ms/step\n",
      "Epoch 14/40\n",
      "43/43 - 10s - loss: 0.7399 - accuracy: 0.9339 - val_loss: 0.1296 - val_accuracy: 0.9889 - 10s/epoch - 223ms/step\n",
      "Epoch 15/40\n",
      "43/43 - 10s - loss: 0.4236 - accuracy: 0.9496 - val_loss: 0.0903 - val_accuracy: 0.9919 - 10s/epoch - 224ms/step\n",
      "Epoch 16/40\n",
      "43/43 - 9s - loss: 0.4746 - accuracy: 0.9523 - val_loss: 0.0787 - val_accuracy: 0.9926 - 9s/epoch - 220ms/step\n",
      "Epoch 17/40\n",
      "43/43 - 10s - loss: 0.4902 - accuracy: 0.9484 - val_loss: 0.0667 - val_accuracy: 0.9963 - 10s/epoch - 227ms/step\n",
      "Epoch 18/40\n",
      "43/43 - 10s - loss: 0.2624 - accuracy: 0.9575 - val_loss: 0.0691 - val_accuracy: 0.9963 - 10s/epoch - 227ms/step\n",
      "Epoch 19/40\n",
      "43/43 - 10s - loss: 0.4113 - accuracy: 0.9601 - val_loss: 0.0833 - val_accuracy: 0.9882 - 10s/epoch - 226ms/step\n",
      "Epoch 20/40\n",
      "43/43 - 10s - loss: 0.3121 - accuracy: 0.9593 - val_loss: 0.0634 - val_accuracy: 0.9963 - 10s/epoch - 233ms/step\n",
      "Epoch 21/40\n",
      "43/43 - 10s - loss: 0.4819 - accuracy: 0.9590 - val_loss: 0.0661 - val_accuracy: 0.9970 - 10s/epoch - 230ms/step\n",
      "Epoch 22/40\n",
      "43/43 - 11s - loss: 0.2737 - accuracy: 0.9475 - val_loss: 0.0636 - val_accuracy: 0.9956 - 11s/epoch - 249ms/step\n",
      "Epoch 23/40\n",
      "43/43 - 10s - loss: 0.3742 - accuracy: 0.9582 - val_loss: 0.0608 - val_accuracy: 0.9970 - 10s/epoch - 230ms/step\n",
      "Epoch 24/40\n",
      "43/43 - 11s - loss: 0.2028 - accuracy: 0.9678 - val_loss: 0.0605 - val_accuracy: 0.9963 - 11s/epoch - 251ms/step\n",
      "Epoch 25/40\n",
      "43/43 - 11s - loss: 0.2025 - accuracy: 0.9697 - val_loss: 0.0596 - val_accuracy: 0.9970 - 11s/epoch - 250ms/step\n",
      "Epoch 26/40\n",
      "43/43 - 10s - loss: 0.3657 - accuracy: 0.9675 - val_loss: 0.1001 - val_accuracy: 0.9763 - 10s/epoch - 240ms/step\n",
      "Epoch 27/40\n",
      "43/43 - 10s - loss: 0.5194 - accuracy: 0.9640 - val_loss: 0.0622 - val_accuracy: 0.9941 - 10s/epoch - 226ms/step\n",
      "Epoch 28/40\n",
      "43/43 - 10s - loss: 0.7437 - accuracy: 0.9603 - val_loss: 0.0971 - val_accuracy: 0.9793 - 10s/epoch - 225ms/step\n",
      "Epoch 29/40\n",
      "43/43 - 9s - loss: 0.2675 - accuracy: 0.9654 - val_loss: 0.0522 - val_accuracy: 0.9970 - 9s/epoch - 221ms/step\n",
      "Epoch 30/40\n",
      "43/43 - 10s - loss: 0.1837 - accuracy: 0.9728 - val_loss: 0.0540 - val_accuracy: 0.9956 - 10s/epoch - 222ms/step\n",
      "Epoch 31/40\n",
      "43/43 - 10s - loss: 0.2005 - accuracy: 0.9736 - val_loss: 0.0538 - val_accuracy: 0.9956 - 10s/epoch - 223ms/step\n",
      "Epoch 32/40\n",
      "43/43 - 10s - loss: 0.1603 - accuracy: 0.9758 - val_loss: 0.0544 - val_accuracy: 0.9956 - 10s/epoch - 224ms/step\n",
      "Epoch 33/40\n",
      "43/43 - 10s - loss: 0.1250 - accuracy: 0.9771 - val_loss: 0.0559 - val_accuracy: 0.9941 - 10s/epoch - 226ms/step\n",
      "Epoch 34/40\n",
      "43/43 - 9s - loss: 0.1478 - accuracy: 0.9795 - val_loss: 0.0532 - val_accuracy: 0.9978 - 9s/epoch - 220ms/step\n",
      "Epoch 35/40\n",
      "43/43 - 10s - loss: 0.1651 - accuracy: 0.9741 - val_loss: 0.0471 - val_accuracy: 0.9978 - 10s/epoch - 225ms/step\n",
      "Epoch 36/40\n",
      "43/43 - 10s - loss: 0.1410 - accuracy: 0.9775 - val_loss: 0.0469 - val_accuracy: 0.9978 - 10s/epoch - 224ms/step\n",
      "Epoch 37/40\n",
      "43/43 - 10s - loss: 0.1543 - accuracy: 0.9800 - val_loss: 0.0443 - val_accuracy: 0.9978 - 10s/epoch - 224ms/step\n",
      "Epoch 38/40\n",
      "43/43 - 9s - loss: 0.1355 - accuracy: 0.9804 - val_loss: 0.0443 - val_accuracy: 0.9978 - 9s/epoch - 221ms/step\n",
      "Epoch 39/40\n",
      "43/43 - 10s - loss: 0.1229 - accuracy: 0.9793 - val_loss: 0.0442 - val_accuracy: 0.9970 - 10s/epoch - 222ms/step\n",
      "Epoch 40/40\n",
      "43/43 - 9s - loss: 0.1809 - accuracy: 0.9791 - val_loss: 0.1109 - val_accuracy: 0.9845 - 9s/epoch - 220ms/step\n",
      "212/212 - 7s - loss: 0.1026 - accuracy: 0.9852 - 7s/epoch - 34ms/step\n",
      "105/105 - 3s - loss: 0.1197 - accuracy: 0.9850 - 3s/epoch - 32ms/step\n"
     ]
    }
   ],
   "source": [
    "from keras.optimizers import Adam\n",
    "from keras.callbacks import EarlyStopping\n",
    "from keras.models import load_model\n",
    "from itertools import chain\n",
    "model.compile(optimizer = Adam(4e-5), loss='binary_crossentropy', metrics=['accuracy'])\n",
    "\n",
    "    # Fit model\n",
    "early_stop = EarlyStopping(monitor='val_loss', patience=7, restore_best_weights=True)\n",
    "\n",
    "history = model.fit(train_X, train_y, validation_split = 0.2, batch_size=128, callbacks=[early_stop], epochs=40, verbose=2)\n",
    "\n",
    "    # Evaluate the model\n",
    "train_acc = model.evaluate(train_X, train_y, verbose=2)\n",
    "test_acc = model.evaluate(test_X, test_y, verbose=2)"
   ]
  },
  {
   "cell_type": "code",
   "execution_count": 30,
   "id": "a55c9afe",
   "metadata": {},
   "outputs": [],
   "source": [
    "def prediction_metrics(y_test, y_pred, y_class_pred, matrix):\n",
    "    FP = matrix[0][1] \n",
    "    FN = matrix[1][0]\n",
    "    TP = matrix[1][1]\n",
    "    TN = matrix[0][0]\n",
    "\n",
    "    sens = TP/(TP+FN)\n",
    "    spec = TN/(TN+FP) \n",
    "    g_mean = np.sqrt(sens * spec)\n",
    "\n",
    "    accuracy = accuracy_score(y_test, y_class_pred)\n",
    "    balanced_accuracy = balanced_accuracy_score(y_test, y_class_pred)\n",
    "    precision = precision_score(y_test, y_class_pred)\n",
    "    recall = recall_score(y_test, y_class_pred)\n",
    "    f1 = f1_score(y_test, y_class_pred)\n",
    "    auc = roc_auc_score(y_test, y_pred)\n",
    "\n",
    "    print('\\t\\t Prediction Metrics\\n')\n",
    "    print(\"Accuracy:\\t\", \"{:0.3f}\".format(accuracy))\n",
    "    print(\"Precision:\\t\", \"{:0.3f}\".format(precision))\n",
    "    print(\"Recall:\\t\\t\", \"{:0.3f}\".format(recall))\n",
    "    print(\"\\nF1 Score:\\t\", \"{:0.3f}\".format(f1))\n",
    "    print(\"ROC AUC:\\t\", \"{:0.3f}\".format(auc))\n",
    "    print(\"Balanced\\nAccuracy:\\t\", \"{:0.3f}\".format(balanced_accuracy))\n",
    "    print(\"\\nSensitivity:\\t\", \"{:0.3f}\".format(sens))\n",
    "    print(\"Specificity:\\t\", \"{:0.3f}\".format(spec))\n",
    "    print(\"Geometric Mean:\\t\", \"{:0.3f}\".format(g_mean))"
   ]
  },
  {
   "cell_type": "code",
   "execution_count": 31,
   "id": "3b9d3d32",
   "metadata": {},
   "outputs": [],
   "source": [
    "def conf_matrix(y_test, y_pred):\n",
    "\n",
    "    matrix = confusion_matrix(y_test, y_pred)\n",
    "    df_cm = pd.DataFrame(matrix, columns=[0, 1], index = [0, 1])\n",
    "    df_cm.index.name = 'Truth'\n",
    "    df_cm.columns.name = 'Predicted'\n",
    "    plt.figure(figsize = (10,7))\n",
    "    sns.set(font_scale=1.4) \n",
    "    sns.heatmap(df_cm, cmap=\"BuGn\", annot=True, annot_kws={\"size\": 16})\n",
    "    plt.show()\n",
    "    \n",
    "    return matrix"
   ]
  },
  {
   "cell_type": "code",
   "execution_count": 32,
   "id": "4da7001c",
   "metadata": {},
   "outputs": [],
   "source": [
    "def graph_acc(history):\n",
    "    # Plot loss during training\n",
    "    plt.subplot(211)\n",
    "    plt.title('Loss')\n",
    "    plt.plot(history.history['loss'], label='train')\n",
    "    plt.plot(history.history['val_loss'], label='test')\n",
    "    plt.legend()\n",
    "\n",
    "    # Plot accuracy during training\n",
    "    plt.subplot(212)\n",
    "    plt.title('Accuracy')\n",
    "    plt.plot(history.history['accuracy'], label='train')\n",
    "    plt.plot(history.history['val_accuracy'], label='test')\n",
    "    plt.legend()\n",
    "    plt.show()"
   ]
  },
  {
   "cell_type": "code",
   "execution_count": 33,
   "id": "f311dc32",
   "metadata": {},
   "outputs": [],
   "source": [
    "from sklearn.metrics import classification_report\n",
    "from sklearn.metrics import accuracy_score\n",
    "from sklearn.metrics import balanced_accuracy_score\n",
    "from sklearn.metrics import roc_auc_score\n",
    "from sklearn.metrics import precision_score\n",
    "from sklearn.metrics import recall_score\n",
    "from sklearn.metrics import f1_score"
   ]
  },
  {
   "cell_type": "code",
   "execution_count": 34,
   "id": "6fd88b65",
   "metadata": {},
   "outputs": [
    {
     "name": "stdout",
     "output_type": "stream",
     "text": [
      "105/105 [==============================] - 4s 37ms/step\n",
      "105/105 [==============================] - 3s 32ms/step\n"
     ]
    },
    {
     "data": {
      "image/png": "[encoded data removed]",
      "text/plain": [
       "<Figure size 640x480 with 2 Axes>"
      ]
     },
     "metadata": {},
     "output_type": "display_data"
    },
    {
     "data": {
      "image/png": "[encoded data removed]",
      "text/plain": [
       "<Figure size 1000x700 with 2 Axes>"
      ]
     },
     "metadata": {},
     "output_type": "display_data"
    },
    {
     "name": "stdout",
     "output_type": "stream",
     "text": [
      "\t\t Prediction Metrics\n",
      "\n",
      "Accuracy:\t 0.985\n",
      "Precision:\t 0.993\n",
      "Recall:\t\t 0.976\n",
      "\n",
      "F1 Score:\t 0.984\n",
      "ROC AUC:\t 0.994\n",
      "Balanced\n",
      "Accuracy:\t 0.985\n",
      "\n",
      "Sensitivity:\t 0.976\n",
      "Specificity:\t 0.994\n",
      "Geometric Mean:\t 0.985\n"
     ]
    }
   ],
   "source": [
    "y_class_pred = (model.predict(test_X) > 0.5).astype(\"int32\")\n",
    "y_pred = model.predict(test_X)\n",
    "\n",
    "    # Accuracy graph\n",
    "graph_acc(history)\n",
    "\n",
    "    # Confustion matrix\n",
    "matrix = conf_matrix(test_y, y_class_pred)\n",
    "\n",
    "    # Metrics\n",
    "prediction_metrics(test_y, y_pred, y_class_pred, matrix)"
   ]
  },
  {
   "cell_type": "code",
   "execution_count": 35,
   "id": "db57a788",
   "metadata": {},
   "outputs": [
    {
     "name": "stdout",
     "output_type": "stream",
     "text": [
      "18/18 [==============================] - 1s 24ms/step\n",
      "18/18 [==============================] - 1s 37ms/step\n"
     ]
    },
    {
     "data": {
      "image/png": "[encoded data removed]",
      "text/plain": [
       "<Figure size 640x480 with 2 Axes>"
      ]
     },
     "metadata": {},
     "output_type": "display_data"
    },
    {
     "data": {
      "image/png": "[encoded data removed]",
      "text/plain": [
       "<Figure size 1000x700 with 2 Axes>"
      ]
     },
     "metadata": {},
     "output_type": "display_data"
    },
    {
     "name": "stdout",
     "output_type": "stream",
     "text": [
      "\t\t Prediction Metrics\n",
      "\n",
      "Accuracy:\t 0.991\n",
      "Precision:\t 0.500\n",
      "Recall:\t\t 0.200\n",
      "\n",
      "F1 Score:\t 0.286\n",
      "ROC AUC:\t 0.645\n",
      "Balanced\n",
      "Accuracy:\t 0.599\n",
      "\n",
      "Sensitivity:\t 0.200\n",
      "Specificity:\t 0.998\n",
      "Geometric Mean:\t 0.447\n"
     ]
    }
   ],
   "source": [
    "y_class_pred = (model.predict(x_test) > 0.5).astype(\"int32\")\n",
    "y_pred = model.predict(x_test)\n",
    "\n",
    "    # Accuracy graph\n",
    "graph_acc(history)\n",
    "\n",
    "    # Confustion matrix\n",
    "matrix = conf_matrix(y_test, y_class_pred)\n",
    "\n",
    "    # Metrics\n",
    "prediction_metrics(y_test, y_pred, y_class_pred, matrix)"
   ]
  },
  {
   "cell_type": "code",
   "execution_count": 36,
   "id": "ad2a0677",
   "metadata": {},
   "outputs": [],
   "source": [
    "_, accuracy = model.evaluate(x_test, y_test, batch_size=2048, verbose=0)"
   ]
  },
  {
   "cell_type": "code",
   "execution_count": 37,
   "id": "0a93c8c6",
   "metadata": {},
   "outputs": [],
   "source": [
    "_, ay = model.evaluate(test_X, test_y, batch_size=2048, verbose=0)"
   ]
  },
  {
   "cell_type": "code",
   "execution_count": 38,
   "id": "d27b480b",
   "metadata": {},
   "outputs": [
    {
     "data": {
      "text/plain": [
       "0.9849985241889954"
      ]
     },
     "execution_count": 38,
     "metadata": {},
     "output_type": "execute_result"
    }
   ],
   "source": [
    "ay"
   ]
  },
  {
   "cell_type": "code",
   "execution_count": 39,
   "id": "b9124388",
   "metadata": {},
   "outputs": [
    {
     "data": {
      "text/plain": [
       "0.9912280440330505"
      ]
     },
     "execution_count": 39,
     "metadata": {},
     "output_type": "execute_result"
    }
   ],
   "source": [
    "accuracy"
   ]
  },
  {
   "cell_type": "code",
   "execution_count": 40,
   "id": "469641f0",
   "metadata": {},
   "outputs": [
    {
     "data": {
      "text/plain": [
       "99.12280440330505"
      ]
     },
     "execution_count": 40,
     "metadata": {},
     "output_type": "execute_result"
    }
   ],
   "source": [
    "score = accuracy * 100\n",
    "score"
   ]
  },
  {
   "cell_type": "code",
   "execution_count": 41,
   "id": "6dfde148",
   "metadata": {},
   "outputs": [
    {
     "data": {
      "text/plain": [
       "(3333,)"
      ]
     },
     "execution_count": 41,
     "metadata": {},
     "output_type": "execute_result"
    }
   ],
   "source": [
    "test_y.shape"
   ]
  },
  {
   "cell_type": "code",
   "execution_count": 42,
   "id": "85206a89",
   "metadata": {},
   "outputs": [
    {
     "name": "stdout",
     "output_type": "stream",
     "text": [
      "18/18 [==============================] - 1s 31ms/step\n"
     ]
    }
   ],
   "source": [
    "pred = model.predict(x_test)"
   ]
  },
  {
   "cell_type": "code",
   "execution_count": 43,
   "id": "c938358e",
   "metadata": {},
   "outputs": [
    {
     "data": {
      "text/plain": [
       "array([[8.56319815e-02],\n",
       "       [0.00000000e+00],\n",
       "       [2.74136849e-02],\n",
       "       [5.89816586e-18],\n",
       "       [9.97363567e-01],\n",
       "       [3.65536474e-02],\n",
       "       [2.42833620e-09],\n",
       "       [1.18762266e-03],\n",
       "       [5.43727507e-10],\n",
       "       [1.22075539e-09],\n",
       "       [1.47925325e-10],\n",
       "       [6.96521757e-16],\n",
       "       [3.19064520e-02],\n",
       "       [1.49533478e-25],\n",
       "       [2.45408960e-09],\n",
       "       [8.61795992e-03],\n",
       "       [5.62161984e-11],\n",
       "       [4.65879217e-03],\n",
       "       [4.92693332e-04],\n",
       "       [2.89212936e-03],\n",
       "       [3.35704884e-03],\n",
       "       [0.00000000e+00],\n",
       "       [2.69452669e-02],\n",
       "       [1.24376369e-04],\n",
       "       [5.32057314e-08],\n",
       "       [3.07447317e-17],\n",
       "       [9.96276923e-03],\n",
       "       [3.73804005e-06],\n",
       "       [1.12232058e-07],\n",
       "       [3.70767736e-03],\n",
       "       [1.81050986e-12],\n",
       "       [2.75728673e-01],\n",
       "       [7.45586073e-03],\n",
       "       [3.40082124e-03],\n",
       "       [6.14308959e-09],\n",
       "       [7.27857953e-15],\n",
       "       [4.91207493e-06],\n",
       "       [0.00000000e+00],\n",
       "       [5.84973060e-02],\n",
       "       [5.08044670e-14],\n",
       "       [3.01629756e-16],\n",
       "       [4.13044821e-03],\n",
       "       [1.18541457e-05],\n",
       "       [7.47775104e-08],\n",
       "       [4.93423231e-02],\n",
       "       [2.55029183e-02],\n",
       "       [2.92642135e-02],\n",
       "       [1.19218342e-02],\n",
       "       [3.20515074e-02],\n",
       "       [3.61941606e-02],\n",
       "       [2.59124171e-02],\n",
       "       [0.00000000e+00],\n",
       "       [3.81283810e-10],\n",
       "       [4.27331586e-20],\n",
       "       [6.95538537e-26],\n",
       "       [1.02322716e-02],\n",
       "       [2.06616988e-07],\n",
       "       [1.48792520e-01],\n",
       "       [6.69388920e-02],\n",
       "       [1.22741427e-16],\n",
       "       [2.02487659e-04],\n",
       "       [1.46190531e-03],\n",
       "       [1.24882360e-03],\n",
       "       [2.46742947e-12],\n",
       "       [0.00000000e+00],\n",
       "       [1.26772111e-05],\n",
       "       [7.66043340e-10],\n",
       "       [0.00000000e+00],\n",
       "       [8.53721019e-07],\n",
       "       [2.61127875e-09],\n",
       "       [2.73757384e-12],\n",
       "       [1.41692770e-24],\n",
       "       [5.11853337e-11],\n",
       "       [1.66473035e-02],\n",
       "       [7.34699061e-05],\n",
       "       [0.00000000e+00],\n",
       "       [1.50055694e-03],\n",
       "       [0.00000000e+00],\n",
       "       [9.49345207e-08],\n",
       "       [2.47578206e-03],\n",
       "       [1.54871279e-02],\n",
       "       [1.82978182e-26],\n",
       "       [1.99091751e-36],\n",
       "       [4.79460275e-03],\n",
       "       [0.00000000e+00],\n",
       "       [5.27515728e-03],\n",
       "       [1.16953149e-03],\n",
       "       [0.00000000e+00],\n",
       "       [4.60276008e-02],\n",
       "       [5.80774673e-09],\n",
       "       [3.05066775e-22],\n",
       "       [9.10467688e-33],\n",
       "       [2.26725278e-05],\n",
       "       [6.10233401e-04],\n",
       "       [3.36128240e-03],\n",
       "       [1.03448644e-01],\n",
       "       [2.93978616e-07],\n",
       "       [1.11000910e-02],\n",
       "       [1.28721837e-07],\n",
       "       [2.06281710e-02],\n",
       "       [2.94816704e-09],\n",
       "       [1.60503362e-06],\n",
       "       [5.46774245e-04],\n",
       "       [5.07547006e-17],\n",
       "       [0.00000000e+00],\n",
       "       [1.19243385e-02],\n",
       "       [1.54215138e-14],\n",
       "       [8.50185228e-04],\n",
       "       [4.90768850e-02],\n",
       "       [0.00000000e+00],\n",
       "       [3.16378619e-19],\n",
       "       [8.24015103e-07],\n",
       "       [3.38178501e-03],\n",
       "       [1.03308514e-06],\n",
       "       [0.00000000e+00],\n",
       "       [2.47300349e-08],\n",
       "       [2.94594349e-11],\n",
       "       [8.83743779e-15],\n",
       "       [1.59494996e-01],\n",
       "       [2.02000865e-06],\n",
       "       [0.00000000e+00],\n",
       "       [1.99690182e-03],\n",
       "       [1.22487459e-12],\n",
       "       [3.44806770e-03],\n",
       "       [0.00000000e+00],\n",
       "       [6.88522732e-08],\n",
       "       [5.37833948e-05],\n",
       "       [5.06418907e-08],\n",
       "       [6.72694495e-21],\n",
       "       [8.17940012e-02],\n",
       "       [2.02577491e-03],\n",
       "       [1.17951970e-12],\n",
       "       [0.00000000e+00],\n",
       "       [4.45559781e-05],\n",
       "       [7.05506420e-03],\n",
       "       [3.20310472e-04],\n",
       "       [0.00000000e+00],\n",
       "       [0.00000000e+00],\n",
       "       [0.00000000e+00],\n",
       "       [0.00000000e+00],\n",
       "       [2.47254176e-03],\n",
       "       [6.66064352e-25],\n",
       "       [1.78416180e-08],\n",
       "       [3.25656421e-02],\n",
       "       [3.08919582e-03],\n",
       "       [6.47411489e-25],\n",
       "       [3.28253722e-17],\n",
       "       [0.00000000e+00],\n",
       "       [0.00000000e+00],\n",
       "       [2.71633780e-03],\n",
       "       [0.00000000e+00],\n",
       "       [9.02035180e-03],\n",
       "       [1.17157390e-02],\n",
       "       [8.68519923e-09],\n",
       "       [1.37339269e-14],\n",
       "       [1.54042523e-02],\n",
       "       [1.21797595e-04],\n",
       "       [1.71758898e-03],\n",
       "       [9.47439745e-02],\n",
       "       [5.46605152e-04],\n",
       "       [1.47442580e-09],\n",
       "       [0.00000000e+00],\n",
       "       [2.95332074e-02],\n",
       "       [2.45352120e-33],\n",
       "       [0.00000000e+00],\n",
       "       [9.51026011e-18],\n",
       "       [1.78214209e-03],\n",
       "       [1.11211375e-04],\n",
       "       [1.29428413e-02],\n",
       "       [0.00000000e+00],\n",
       "       [3.92366144e-19],\n",
       "       [1.78884994e-16],\n",
       "       [2.49610213e-03],\n",
       "       [6.43353680e-19],\n",
       "       [5.68439127e-08],\n",
       "       [0.00000000e+00],\n",
       "       [1.12192472e-02],\n",
       "       [1.36021990e-02],\n",
       "       [1.16894217e-19],\n",
       "       [5.31808384e-28],\n",
       "       [6.26834887e-17],\n",
       "       [1.07085972e-31],\n",
       "       [3.40194292e-02],\n",
       "       [0.00000000e+00],\n",
       "       [1.62903579e-21],\n",
       "       [0.00000000e+00],\n",
       "       [4.83476189e-16],\n",
       "       [9.72343805e-09],\n",
       "       [3.02467425e-03],\n",
       "       [2.49654756e-16],\n",
       "       [4.32070752e-04],\n",
       "       [1.82346500e-15],\n",
       "       [1.15772237e-21],\n",
       "       [1.94248912e-24],\n",
       "       [1.03342187e-14],\n",
       "       [9.33327526e-10],\n",
       "       [1.86579826e-04],\n",
       "       [1.67719298e-03],\n",
       "       [1.73946039e-03],\n",
       "       [8.03997668e-09],\n",
       "       [4.37395925e-10],\n",
       "       [5.96814981e-17],\n",
       "       [5.87580949e-02],\n",
       "       [6.75336719e-02],\n",
       "       [1.78663540e-04],\n",
       "       [2.19266693e-14],\n",
       "       [3.65907931e-06],\n",
       "       [1.94316162e-26],\n",
       "       [1.58695786e-06],\n",
       "       [3.02415748e-22],\n",
       "       [8.95726028e-12],\n",
       "       [4.25443315e-04],\n",
       "       [1.51549214e-02],\n",
       "       [2.75452959e-11],\n",
       "       [1.72852725e-01],\n",
       "       [1.63883846e-02],\n",
       "       [1.31523931e-20],\n",
       "       [4.15275979e-04],\n",
       "       [2.85354504e-13],\n",
       "       [1.73994854e-01],\n",
       "       [3.24021794e-29],\n",
       "       [1.01603298e-04],\n",
       "       [0.00000000e+00],\n",
       "       [1.81574770e-03],\n",
       "       [6.99082166e-17],\n",
       "       [1.05862682e-07],\n",
       "       [8.77874717e-03],\n",
       "       [3.71809945e-24],\n",
       "       [3.16147693e-03],\n",
       "       [9.82007031e-10],\n",
       "       [0.00000000e+00],\n",
       "       [4.16736398e-03],\n",
       "       [3.28732560e-16],\n",
       "       [5.58546502e-14],\n",
       "       [1.44132000e-36],\n",
       "       [2.34235640e-24],\n",
       "       [1.39270192e-02],\n",
       "       [1.24967378e-03],\n",
       "       [6.93734670e-09],\n",
       "       [3.68019156e-02],\n",
       "       [1.49625942e-01],\n",
       "       [8.59313586e-04],\n",
       "       [1.09788676e-12],\n",
       "       [2.97665945e-03],\n",
       "       [6.59280410e-03],\n",
       "       [0.00000000e+00],\n",
       "       [0.00000000e+00],\n",
       "       [8.96940101e-03],\n",
       "       [7.83663429e-03],\n",
       "       [7.11012527e-10],\n",
       "       [0.00000000e+00],\n",
       "       [0.00000000e+00],\n",
       "       [8.69453128e-04],\n",
       "       [7.92899809e-04],\n",
       "       [3.22761317e-03],\n",
       "       [7.05618008e-10],\n",
       "       [4.02064280e-14],\n",
       "       [2.97510822e-04],\n",
       "       [0.00000000e+00],\n",
       "       [7.42057785e-02],\n",
       "       [9.58141300e-07],\n",
       "       [4.71659377e-03],\n",
       "       [0.00000000e+00],\n",
       "       [0.00000000e+00],\n",
       "       [0.00000000e+00],\n",
       "       [1.31942597e-19],\n",
       "       [6.86807111e-02],\n",
       "       [4.38230336e-06],\n",
       "       [2.70901937e-02],\n",
       "       [0.00000000e+00],\n",
       "       [1.08036194e-02],\n",
       "       [8.96319829e-14],\n",
       "       [1.03707251e-11],\n",
       "       [3.16819366e-27],\n",
       "       [5.28126070e-03],\n",
       "       [2.70459466e-02],\n",
       "       [2.25206206e-14],\n",
       "       [4.82747734e-18],\n",
       "       [5.56057775e-15],\n",
       "       [0.00000000e+00],\n",
       "       [3.93848431e-23],\n",
       "       [1.86626339e-10],\n",
       "       [2.83318102e-09],\n",
       "       [4.73847867e-05],\n",
       "       [3.27043243e-13],\n",
       "       [0.00000000e+00],\n",
       "       [1.62815581e-07],\n",
       "       [5.11557376e-12],\n",
       "       [4.53423521e-10],\n",
       "       [7.50323334e-32],\n",
       "       [3.09622008e-02],\n",
       "       [1.20288381e-17],\n",
       "       [2.77148471e-10],\n",
       "       [4.20425739e-03],\n",
       "       [2.10781737e-19],\n",
       "       [9.99369004e-05],\n",
       "       [1.25212078e-14],\n",
       "       [8.43535912e-20],\n",
       "       [4.06906980e-10],\n",
       "       [1.77803077e-02],\n",
       "       [7.90126534e-25],\n",
       "       [2.86977928e-12],\n",
       "       [8.92796181e-03],\n",
       "       [7.82105839e-04],\n",
       "       [1.03582232e-35],\n",
       "       [1.19798165e-02],\n",
       "       [8.04980300e-05],\n",
       "       [3.27205402e-03],\n",
       "       [8.11335721e-11],\n",
       "       [7.18147785e-04],\n",
       "       [0.00000000e+00],\n",
       "       [1.29586533e-01],\n",
       "       [0.00000000e+00],\n",
       "       [1.81757389e-17],\n",
       "       [4.42749076e-03],\n",
       "       [4.02241126e-02],\n",
       "       [1.47509333e-02],\n",
       "       [1.39863798e-02],\n",
       "       [1.43445843e-13],\n",
       "       [0.00000000e+00],\n",
       "       [8.46991595e-03],\n",
       "       [4.00761515e-02],\n",
       "       [4.14666430e-26],\n",
       "       [2.86878220e-35],\n",
       "       [1.50000506e-14],\n",
       "       [6.46527276e-12],\n",
       "       [2.06756428e-16],\n",
       "       [1.03731975e-02],\n",
       "       [9.78730430e-11],\n",
       "       [2.41222097e-06],\n",
       "       [1.76931843e-02],\n",
       "       [6.71985224e-02],\n",
       "       [4.66648700e-35],\n",
       "       [0.00000000e+00],\n",
       "       [1.64636135e-11],\n",
       "       [1.87153913e-04],\n",
       "       [7.16959999e-04],\n",
       "       [7.68521025e-10],\n",
       "       [1.08212958e-13],\n",
       "       [0.00000000e+00],\n",
       "       [7.00979074e-22],\n",
       "       [0.00000000e+00],\n",
       "       [1.91900078e-02],\n",
       "       [0.00000000e+00],\n",
       "       [1.12798807e-19],\n",
       "       [3.80009087e-03],\n",
       "       [4.98164386e-20],\n",
       "       [5.07570382e-24],\n",
       "       [2.63651069e-02],\n",
       "       [0.00000000e+00],\n",
       "       [0.00000000e+00],\n",
       "       [1.06060535e-01],\n",
       "       [0.00000000e+00],\n",
       "       [2.74433826e-31],\n",
       "       [3.63983617e-07],\n",
       "       [1.84491184e-02],\n",
       "       [7.17505682e-05],\n",
       "       [4.11201927e-06],\n",
       "       [2.81609758e-03],\n",
       "       [9.13390703e-03],\n",
       "       [1.06308295e-03],\n",
       "       [6.27560048e-09],\n",
       "       [1.54887908e-28],\n",
       "       [6.66246615e-12],\n",
       "       [2.67979466e-16],\n",
       "       [1.49431187e-04],\n",
       "       [1.65955140e-03],\n",
       "       [0.00000000e+00],\n",
       "       [0.00000000e+00],\n",
       "       [4.35493153e-09],\n",
       "       [4.97750426e-03],\n",
       "       [4.05781083e-02],\n",
       "       [0.00000000e+00],\n",
       "       [5.84291774e-05],\n",
       "       [1.42019314e-28],\n",
       "       [1.19659878e-01],\n",
       "       [2.26682760e-02],\n",
       "       [2.61555370e-29],\n",
       "       [7.89453536e-02],\n",
       "       [7.11034145e-03],\n",
       "       [5.64590422e-03],\n",
       "       [1.34795648e-03],\n",
       "       [2.46661010e-20],\n",
       "       [4.33593616e-03],\n",
       "       [2.38191755e-03],\n",
       "       [6.03332836e-03],\n",
       "       [4.87101750e-20],\n",
       "       [3.94712813e-14],\n",
       "       [6.37864927e-03],\n",
       "       [2.72205216e-04],\n",
       "       [1.20681776e-02],\n",
       "       [1.10372389e-02],\n",
       "       [5.55513822e-08],\n",
       "       [1.77099921e-07],\n",
       "       [2.27948238e-29],\n",
       "       [7.41071915e-08],\n",
       "       [1.47007786e-14],\n",
       "       [2.59137220e-28],\n",
       "       [2.25144788e-03],\n",
       "       [0.00000000e+00],\n",
       "       [0.00000000e+00],\n",
       "       [1.18691952e-20],\n",
       "       [2.04490374e-12],\n",
       "       [6.04466948e-08],\n",
       "       [1.18508600e-02],\n",
       "       [4.75743227e-03],\n",
       "       [3.10626426e-34],\n",
       "       [2.76451374e-06],\n",
       "       [1.77968796e-02],\n",
       "       [1.83063373e-02],\n",
       "       [4.82958741e-02],\n",
       "       [4.29915264e-02],\n",
       "       [4.33431976e-02],\n",
       "       [9.36367735e-02],\n",
       "       [1.18107685e-32],\n",
       "       [0.00000000e+00],\n",
       "       [1.71008538e-02],\n",
       "       [0.00000000e+00],\n",
       "       [1.23024546e-02],\n",
       "       [0.00000000e+00],\n",
       "       [1.18693605e-03],\n",
       "       [0.00000000e+00],\n",
       "       [1.43487739e-07],\n",
       "       [1.45515018e-18],\n",
       "       [3.53769935e-03],\n",
       "       [8.31551716e-09],\n",
       "       [1.47612218e-03],\n",
       "       [1.04139978e-03],\n",
       "       [1.81645416e-02],\n",
       "       [9.88299930e-25],\n",
       "       [8.01184215e-04],\n",
       "       [2.77639592e-05],\n",
       "       [7.45911673e-02],\n",
       "       [0.00000000e+00],\n",
       "       [1.69848413e-10],\n",
       "       [7.53533520e-12],\n",
       "       [1.66786147e-32],\n",
       "       [1.18937016e-04],\n",
       "       [9.10444837e-03],\n",
       "       [6.03396446e-04],\n",
       "       [1.71092860e-02],\n",
       "       [1.95838429e-10],\n",
       "       [1.47039127e-05],\n",
       "       [1.93156811e-04],\n",
       "       [1.27483488e-23],\n",
       "       [0.00000000e+00],\n",
       "       [2.52127810e-03],\n",
       "       [8.31790128e-19],\n",
       "       [0.00000000e+00],\n",
       "       [6.43759081e-03],\n",
       "       [5.85466378e-15],\n",
       "       [5.99904797e-06],\n",
       "       [2.81562693e-02],\n",
       "       [4.28066226e-14],\n",
       "       [0.00000000e+00],\n",
       "       [7.09278629e-06],\n",
       "       [1.14491744e-18],\n",
       "       [4.89863008e-03],\n",
       "       [2.06718445e-02],\n",
       "       [0.00000000e+00],\n",
       "       [0.00000000e+00],\n",
       "       [4.40490944e-03],\n",
       "       [1.71416303e-08],\n",
       "       [4.65585639e-19],\n",
       "       [1.99080853e-31],\n",
       "       [8.82550026e-04],\n",
       "       [1.31406600e-03],\n",
       "       [5.74877765e-03],\n",
       "       [2.58566807e-33],\n",
       "       [2.52162330e-02],\n",
       "       [6.13982589e-15],\n",
       "       [5.03153580e-25],\n",
       "       [2.88698962e-03],\n",
       "       [2.01260508e-03],\n",
       "       [2.18514992e-06],\n",
       "       [2.57451385e-02],\n",
       "       [2.96270924e-10],\n",
       "       [2.19632853e-02],\n",
       "       [3.11452188e-02],\n",
       "       [3.60211940e-04],\n",
       "       [9.82304605e-18],\n",
       "       [1.15780795e-05],\n",
       "       [2.95792095e-04],\n",
       "       [5.90763725e-02],\n",
       "       [1.00186300e-02],\n",
       "       [0.00000000e+00],\n",
       "       [3.16653236e-12],\n",
       "       [4.85387774e-09],\n",
       "       [3.19145019e-25],\n",
       "       [1.36583849e-05],\n",
       "       [6.47298351e-04],\n",
       "       [2.63319183e-02],\n",
       "       [6.87277783e-03],\n",
       "       [5.88428624e-30],\n",
       "       [3.16421576e-02],\n",
       "       [0.00000000e+00],\n",
       "       [1.03899842e-12],\n",
       "       [5.11176065e-02],\n",
       "       [8.65537217e-30],\n",
       "       [3.73744461e-36],\n",
       "       [3.18779871e-02],\n",
       "       [1.17517086e-02],\n",
       "       [2.18664948e-02],\n",
       "       [1.29602777e-04],\n",
       "       [6.92887334e-05],\n",
       "       [3.62100327e-05],\n",
       "       [1.03732669e-13],\n",
       "       [0.00000000e+00],\n",
       "       [6.49368249e-24],\n",
       "       [1.41626841e-24],\n",
       "       [9.38925879e-08],\n",
       "       [2.40495788e-16],\n",
       "       [8.42847396e-03],\n",
       "       [0.00000000e+00],\n",
       "       [3.17790965e-03],\n",
       "       [1.73744354e-02],\n",
       "       [1.59519426e-22],\n",
       "       [1.12736979e-02],\n",
       "       [2.27721748e-11],\n",
       "       [0.00000000e+00],\n",
       "       [2.02251520e-15],\n",
       "       [1.70958415e-02],\n",
       "       [8.19200359e-04],\n",
       "       [4.88553345e-27],\n",
       "       [1.35733280e-03],\n",
       "       [5.91926508e-10],\n",
       "       [0.00000000e+00],\n",
       "       [0.00000000e+00],\n",
       "       [1.05550782e-04],\n",
       "       [1.69916123e-01],\n",
       "       [1.87789541e-04],\n",
       "       [6.54485277e-12],\n",
       "       [4.10926901e-02],\n",
       "       [1.35989239e-05],\n",
       "       [7.88232544e-04],\n",
       "       [2.09907236e-33],\n",
       "       [9.49239547e-05],\n",
       "       [7.61343058e-17],\n",
       "       [2.97378679e-03],\n",
       "       [7.45660912e-32],\n",
       "       [2.04512968e-16],\n",
       "       [2.11455245e-02],\n",
       "       [2.24715186e-05],\n",
       "       [5.01912436e-04],\n",
       "       [7.15507098e-11],\n",
       "       [4.93902657e-22],\n",
       "       [4.19430435e-02],\n",
       "       [2.08685594e-03],\n",
       "       [3.59337381e-03],\n",
       "       [3.08479239e-29],\n",
       "       [2.37606787e-17],\n",
       "       [5.19855553e-03],\n",
       "       [1.39616302e-03],\n",
       "       [0.00000000e+00],\n",
       "       [2.63959151e-02],\n",
       "       [3.36674276e-18],\n",
       "       [3.40833003e-03],\n",
       "       [9.86277759e-01],\n",
       "       [5.67998095e-19],\n",
       "       [3.76332626e-02],\n",
       "       [6.24816457e-04],\n",
       "       [9.77232959e-03],\n",
       "       [6.02922910e-07],\n",
       "       [1.03777038e-05],\n",
       "       [4.57444762e-28],\n",
       "       [6.70450804e-12],\n",
       "       [3.40536563e-03],\n",
       "       [1.87415967e-03],\n",
       "       [6.33678946e-27],\n",
       "       [0.00000000e+00]], dtype=float32)"
      ]
     },
     "execution_count": 43,
     "metadata": {},
     "output_type": "execute_result"
    }
   ],
   "source": [
    "pred"
   ]
  },
  {
   "cell_type": "code",
   "execution_count": 44,
   "id": "8e8ac6b4",
   "metadata": {},
   "outputs": [
    {
     "data": {
      "text/plain": [
       "0      1\n",
       "1      1\n",
       "2      1\n",
       "3      1\n",
       "4      1\n",
       "      ..\n",
       "565    0\n",
       "566    0\n",
       "567    0\n",
       "568    0\n",
       "569    0\n",
       "Name: LABEL, Length: 570, dtype: int64"
      ]
     },
     "execution_count": 44,
     "metadata": {},
     "output_type": "execute_result"
    }
   ],
   "source": [
    "y_test"
   ]
  },
  {
   "cell_type": "code",
   "execution_count": 45,
   "id": "2b4c22c9",
   "metadata": {},
   "outputs": [],
   "source": [
    "def mmodel(classifier,dtrain_x,dtrain_y,dtest_x,dtest_y):\n",
    "    classifier.fit(dtrain_x,dtrain_y)\n",
    "\n",
    "    prediction=classifier.predict(dtest_x)\n",
    "\n",
    "    print('Validation accuracy of model is', accuracy_score(prediction,dtest_y))\n",
    "    print (\"\\nClassification report :\\n\",(classification_report(dtest_y,prediction)))\n",
    "\n",
    "    plt.figure(figsize=(13,10))\n",
    "    plt.subplot(221)\n",
    "    sns.heatmap(confusion_matrix(dtest_y,prediction),annot=True,cmap=\"viridis\",fmt = \"d\",linecolor=\"k\",linewidths=3)\n",
    "    plt.title(\"CONFUSION MATRIX\",fontsize=20)"
   ]
  },
  {
   "cell_type": "code",
   "execution_count": 46,
   "id": "f5de6504",
   "metadata": {},
   "outputs": [],
   "source": [
    "from sklearn.tree import DecisionTreeClassifier\n",
    "from sklearn.linear_model import LogisticRegression\n",
    "from sklearn.svm import SVC\n",
    "from sklearn.naive_bayes import GaussianNB\n",
    "from sklearn.ensemble import RandomForestClassifier\n",
    "from xgboost import XGBClassifier\n",
    "from sklearn.neural_network import MLPClassifier\n",
    "from sklearn.compose import ColumnTransformer\n",
    "from imblearn.over_sampling import RandomOverSampler"
   ]
  },
  {
   "cell_type": "code",
   "execution_count": 47,
   "id": "7ba222d2",
   "metadata": {},
   "outputs": [
    {
     "name": "stdout",
     "output_type": "stream",
     "text": [
      "Validation accuracy of model is 0.9771977197719772\n",
      "\n",
      "Classification report :\n",
      "               precision    recall  f1-score   support\n",
      "\n",
      "           0       0.99      0.96      0.98      1709\n",
      "           1       0.96      0.99      0.98      1624\n",
      "\n",
      "    accuracy                           0.98      3333\n",
      "   macro avg       0.98      0.98      0.98      3333\n",
      "weighted avg       0.98      0.98      0.98      3333\n",
      "\n"
     ]
    },
    {
     "data": {
      "image/png": "[encoded data removed]",
      "text/plain": [
       "<Figure size 1300x1000 with 2 Axes>"
      ]
     },
     "metadata": {},
     "output_type": "display_data"
    }
   ],
   "source": [
    "from sklearn.tree import DecisionTreeClassifier\n",
    "ds_model = DecisionTreeClassifier(max_depth=12, random_state=13)\n",
    "mmodel(ds_model,train_X,train_y,test_X,test_y)"
   ]
  },
  {
   "cell_type": "code",
   "execution_count": 48,
   "id": "33d6697b",
   "metadata": {},
   "outputs": [
    {
     "name": "stdout",
     "output_type": "stream",
     "text": [
      "Validation accuracy of model is 0.9993999399939995\n",
      "\n",
      "Classification report :\n",
      "               precision    recall  f1-score   support\n",
      "\n",
      "           0       1.00      1.00      1.00      1709\n",
      "           1       1.00      1.00      1.00      1624\n",
      "\n",
      "    accuracy                           1.00      3333\n",
      "   macro avg       1.00      1.00      1.00      3333\n",
      "weighted avg       1.00      1.00      1.00      3333\n",
      "\n"
     ]
    },
    {
     "data": {
      "image/png": "[encoded data removed]",
      "text/plain": [
       "<Figure size 1300x1000 with 2 Axes>"
      ]
     },
     "metadata": {},
     "output_type": "display_data"
    }
   ],
   "source": [
    "mmodel(RandomForestClassifier(), train_X, train_y, test_X, test_y)"
   ]
  },
  {
   "cell_type": "code",
   "execution_count": 49,
   "id": "a1ad9e7a",
   "metadata": {},
   "outputs": [
    {
     "name": "stdout",
     "output_type": "stream",
     "text": [
      "0.9993999399939995\n"
     ]
    }
   ],
   "source": [
    "from xgboost import XGBClassifier\n",
    "\n",
    "xgb_classifier = XGBClassifier()\n",
    "xgb_classifier.fit(train_X, train_y)\n",
    "y_pred_xgb = xgb_classifier.predict(test_X)\n",
    "accuracy_xgb = accuracy_score(test_y, y_pred_xgb)\n",
    "print(accuracy_xgb)"
   ]
  }
 ],
 "metadata": {
  "kernelspec": {
   "display_name": "Python 3 (ipykernel)",
   "language": "python",
   "name": "python3"
  },
  "language_info": {
   "codemirror_mode": {
    "name": "ipython",
    "version": 3
   },
   "file_extension": ".py",
   "mimetype": "text/x-python",
   "name": "python",
   "nbconvert_exporter": "python",
   "pygments_lexer": "ipython3",
   "version": "3.10.9"
  }
 },
 "nbformat": 4,
 "nbformat_minor": 5
}
